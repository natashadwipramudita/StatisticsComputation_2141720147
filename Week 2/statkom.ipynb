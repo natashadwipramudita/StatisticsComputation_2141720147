{
 "cells": [
  {
   "cell_type": "code",
   "execution_count": 1,
   "metadata": {},
   "outputs": [
    {
     "name": "stdout",
     "output_type": "stream",
     "text": [
      "128.0\n"
     ]
    }
   ],
   "source": [
    "apel = [100, 200, 150, 100, 120, 80, 90, 160, 110, 170]\n",
    "\n",
    "total_berat = 0\n",
    "\n",
    "for i in range(len(apel)):\n",
    "    total_berat = total_berat + apel[i]\n",
    "    \n",
    "avg_apel = total_berat / len(apel)\n",
    "print(avg_apel)"
   ]
  },
  {
   "cell_type": "code",
   "execution_count": 2,
   "metadata": {},
   "outputs": [
    {
     "name": "stdout",
     "output_type": "stream",
     "text": [
      "128.0\n"
     ]
    }
   ],
   "source": [
    "import numpy as np\n",
    "apel = [100, 200, 150, 100, 120, 80, 90, 160, 110, 170]\n",
    "avg_apel = np.mean(apel)\n",
    "print(avg_apel)"
   ]
  },
  {
   "cell_type": "code",
   "execution_count": 3,
   "metadata": {},
   "outputs": [
    {
     "name": "stdout",
     "output_type": "stream",
     "text": [
      "115.0\n"
     ]
    }
   ],
   "source": [
    "import math\n",
    "\n",
    "def bubblesort(elements):\n",
    "    for n in range(len(elements)-1, 0, -1):\n",
    "        for i in range(n):\n",
    "            if elements[i] > elements[i+1]:\n",
    "                elements[i], elements[i+1] = elements[i+1], elements[i]\n",
    "    return elements\n",
    "\n",
    "def calc_median(elements):\n",
    "    elements = bubblesort(elements)\n",
    "    len_element = len(elements)\n",
    "    if len_element % 2 == 0:\n",
    "        center = math.floor(len_element/2)\n",
    "        return (elements[center-1] + elements[center]) / 2\n",
    "    else:\n",
    "        return elements[math.ceil(len_element/2)-1]\n",
    "\n",
    "apel = [100, 200, 150, 100, 120, 80, 90, 160, 110, 170]\n",
    "median = calc_median(apel)\n",
    "print(median)"
   ]
  },
  {
   "cell_type": "code",
   "execution_count": 4,
   "metadata": {},
   "outputs": [
    {
     "name": "stdout",
     "output_type": "stream",
     "text": [
      "Apel urut : 80 90 100 100 110 120 150 160 170 200\n",
      "115.0\n"
     ]
    }
   ],
   "source": [
    "import numpy as np\n",
    "apel = [100, 200, 150, 100, 120, 80, 90, 160, 110, 170]\n",
    "med_apel = np.median(apel)\n",
    "apel.sort()\n",
    "apel_urut = ' '.join(map(str, apel))\n",
    "print('Apel urut : {:s}'.format(apel_urut))\n",
    "print(med_apel)"
   ]
  },
  {
   "cell_type": "code",
   "execution_count": 5,
   "metadata": {},
   "outputs": [
    {
     "name": "stdout",
     "output_type": "stream",
     "text": [
      "70\n",
      "ModeResult(mode=array([70]), count=array([3]))\n",
      "[70]\n"
     ]
    },
    {
     "name": "stderr",
     "output_type": "stream",
     "text": [
      "C:\\Users\\WINDOWS 10\\AppData\\Local\\Temp\\ipykernel_13184\\3019492586.py:6: FutureWarning: Unlike other reduction functions (e.g. `skew`, `kurtosis`), the default behavior of `mode` typically preserves the axis it acts along. In SciPy 1.11.0, this behavior will change: the default value of `keepdims` will become False, the `axis` over which the statistic is taken will be eliminated, and the value None will no longer be accepted. Set `keepdims` to True or False to avoid this warning.\n",
      "  mode_nilai = stats.mode(nilai)\n"
     ]
    }
   ],
   "source": [
    "from scipy import stats\n",
    "import statistics as s\n",
    "\n",
    "nilai = [70, 80, 70, 70, 90, 100]\n",
    "\n",
    "mode_nilai = stats.mode(nilai)\n",
    "modus = s.mode(nilai)\n",
    "print(modus)\n",
    "print(mode_nilai)\n",
    "print(mode_nilai.mode)"
   ]
  },
  {
   "cell_type": "code",
   "execution_count": 6,
   "metadata": {},
   "outputs": [
    {
     "name": "stdout",
     "output_type": "stream",
     "text": [
      "62\n"
     ]
    }
   ],
   "source": [
    "import numpy as np\n",
    "data = np.array([23, 56, 45, 65, 59, 55, 62, 54, 85, 25])\n",
    "data_max = max(data)\n",
    "data_min = min(data)\n",
    "range = data_max - data_min\n",
    "print(range)"
   ]
  },
  {
   "cell_type": "code",
   "execution_count": 7,
   "metadata": {},
   "outputs": [
    {
     "name": "stdout",
     "output_type": "stream",
     "text": [
      "               0\n",
      "count  11.000000\n",
      "mean   53.090909\n",
      "std    17.466852\n",
      "min    23.000000\n",
      "25%    49.500000\n",
      "50%    55.000000\n",
      "75%    60.500000\n",
      "max    85.000000\n"
     ]
    }
   ],
   "source": [
    "import numpy as np\n",
    "import pandas as pd\n",
    "\n",
    "data_baru = np.array([23, 56, 45, 65, 59, 55, 62, 54, 85, 25, 55])\n",
    "print(pd.DataFrame(data_baru).describe())"
   ]
  },
  {
   "cell_type": "code",
   "execution_count": 15,
   "metadata": {},
   "outputs": [
    {
     "data": {
      "text/plain": [
       "{'whiskers': [<matplotlib.lines.Line2D at 0x1777c2ff190>,\n",
       "  <matplotlib.lines.Line2D at 0x1777c2ff460>,\n",
       "  <matplotlib.lines.Line2D at 0x1777c30c580>,\n",
       "  <matplotlib.lines.Line2D at 0x1777c30c850>,\n",
       "  <matplotlib.lines.Line2D at 0x1777c318970>,\n",
       "  <matplotlib.lines.Line2D at 0x1777c318c40>,\n",
       "  <matplotlib.lines.Line2D at 0x1777c324d60>,\n",
       "  <matplotlib.lines.Line2D at 0x1777c332070>],\n",
       " 'caps': [<matplotlib.lines.Line2D at 0x1777c2ff730>,\n",
       "  <matplotlib.lines.Line2D at 0x1777c2ffa00>,\n",
       "  <matplotlib.lines.Line2D at 0x1777c30cb20>,\n",
       "  <matplotlib.lines.Line2D at 0x1777c30cdf0>,\n",
       "  <matplotlib.lines.Line2D at 0x1777c318f10>,\n",
       "  <matplotlib.lines.Line2D at 0x1777c324220>,\n",
       "  <matplotlib.lines.Line2D at 0x1777c332340>,\n",
       "  <matplotlib.lines.Line2D at 0x1777c332610>],\n",
       " 'boxes': [<matplotlib.lines.Line2D at 0x1777c2f0e80>,\n",
       "  <matplotlib.lines.Line2D at 0x1777c30c2b0>,\n",
       "  <matplotlib.lines.Line2D at 0x1777c3186a0>,\n",
       "  <matplotlib.lines.Line2D at 0x1777c324a90>],\n",
       " 'medians': [<matplotlib.lines.Line2D at 0x1777c2ffcd0>,\n",
       "  <matplotlib.lines.Line2D at 0x1777c318100>,\n",
       "  <matplotlib.lines.Line2D at 0x1777c3244f0>,\n",
       "  <matplotlib.lines.Line2D at 0x1777c3328e0>],\n",
       " 'fliers': [<matplotlib.lines.Line2D at 0x1777c2fffa0>,\n",
       "  <matplotlib.lines.Line2D at 0x1777c3183d0>,\n",
       "  <matplotlib.lines.Line2D at 0x1777c3247c0>,\n",
       "  <matplotlib.lines.Line2D at 0x1777c332bb0>],\n",
       " 'means': []}"
      ]
     },
     "execution_count": 15,
     "metadata": {},
     "output_type": "execute_result"
    },
    {
     "data": {
      "image/png": "[encoded data removed]",
      "text/plain": [
       "<Figure size 640x480 with 1 Axes>"
      ]
     },
     "metadata": {},
     "output_type": "display_data"
    }
   ],
   "source": [
    "import numpy as np\n",
    "import matplotlib.pyplot as plt\n",
    "\n",
    "data_raw = np.array([\n",
    "    [2, 3, 7, 30],\n",
    "    [9, 4, 6, 1],\n",
    "    [8, 15, 2, 40],\n",
    "    [20, 10, 2, 6]\n",
    "])\n",
    "\n",
    "plt.boxplot(data_raw)"
   ]
  },
  {
   "cell_type": "code",
   "execution_count": 14,
   "metadata": {},
   "outputs": [
    {
     "data": {
      "text/plain": [
       "{'whiskers': [<matplotlib.lines.Line2D at 0x1777c24aa00>,\n",
       "  <matplotlib.lines.Line2D at 0x1777c24acd0>,\n",
       "  <matplotlib.lines.Line2D at 0x1777c259df0>,\n",
       "  <matplotlib.lines.Line2D at 0x1777c268100>,\n",
       "  <matplotlib.lines.Line2D at 0x1777c275220>,\n",
       "  <matplotlib.lines.Line2D at 0x1777c2754f0>,\n",
       "  <matplotlib.lines.Line2D at 0x1777c283610>,\n",
       "  <matplotlib.lines.Line2D at 0x1777c2838e0>],\n",
       " 'caps': [<matplotlib.lines.Line2D at 0x1777c24afa0>,\n",
       "  <matplotlib.lines.Line2D at 0x1777c2592b0>,\n",
       "  <matplotlib.lines.Line2D at 0x1777c2683d0>,\n",
       "  <matplotlib.lines.Line2D at 0x1777c2686a0>,\n",
       "  <matplotlib.lines.Line2D at 0x1777c2757c0>,\n",
       "  <matplotlib.lines.Line2D at 0x1777c275a90>,\n",
       "  <matplotlib.lines.Line2D at 0x1777c283bb0>,\n",
       "  <matplotlib.lines.Line2D at 0x1777c283e80>],\n",
       " 'boxes': [<matplotlib.lines.Line2D at 0x1777c24a730>,\n",
       "  <matplotlib.lines.Line2D at 0x1777c259b20>,\n",
       "  <matplotlib.lines.Line2D at 0x1777c268f10>,\n",
       "  <matplotlib.lines.Line2D at 0x1777c283340>],\n",
       " 'medians': [<matplotlib.lines.Line2D at 0x1777c259580>,\n",
       "  <matplotlib.lines.Line2D at 0x1777c268970>,\n",
       "  <matplotlib.lines.Line2D at 0x1777c275d60>,\n",
       "  <matplotlib.lines.Line2D at 0x1777c291190>],\n",
       " 'fliers': [<matplotlib.lines.Line2D at 0x1777c259850>,\n",
       "  <matplotlib.lines.Line2D at 0x1777c268c40>,\n",
       "  <matplotlib.lines.Line2D at 0x1777c283070>,\n",
       "  <matplotlib.lines.Line2D at 0x1777c291460>],\n",
       " 'means': []}"
      ]
     },
     "execution_count": 14,
     "metadata": {},
     "output_type": "execute_result"
    },
    {
     "data": {
      "image/png": "[encoded data removed]",
      "text/plain": [
       "<Figure size 640x480 with 1 Axes>"
      ]
     },
     "metadata": {},
     "output_type": "display_data"
    }
   ],
   "source": [
    "import numpy as np\n",
    "import matplotlib.pyplot as plt\n",
    "from sklearn.preprocessing import MinMaxScaler\n",
    "\n",
    "data_raw = np.array([\n",
    "    [2, 3, 7, 30],\n",
    "    [9, 4, 6, 1],\n",
    "    [8, 15, 2, 40],\n",
    "    [20, 10, 2, 6]\n",
    "])\n",
    "\n",
    "scaler = MinMaxScaler()\n",
    "data_scale = scaler.fit_transform(data_raw)\n",
    "\n",
    "plt.boxplot(data_scale)"
   ]
  },
  {
   "cell_type": "code",
   "execution_count": 12,
   "metadata": {},
   "outputs": [
    {
     "data": {
      "text/plain": [
       "{'whiskers': [<matplotlib.lines.Line2D at 0x1777c18a7f0>,\n",
       "  <matplotlib.lines.Line2D at 0x1777c18aac0>,\n",
       "  <matplotlib.lines.Line2D at 0x1777c1a4c10>,\n",
       "  <matplotlib.lines.Line2D at 0x1777c1a4ee0>,\n",
       "  <matplotlib.lines.Line2D at 0x1777c1bf040>,\n",
       "  <matplotlib.lines.Line2D at 0x1777c1bf310>,\n",
       "  <matplotlib.lines.Line2D at 0x1777c1cb430>,\n",
       "  <matplotlib.lines.Line2D at 0x1777c1cb700>],\n",
       " 'caps': [<matplotlib.lines.Line2D at 0x1777c18ad90>,\n",
       "  <matplotlib.lines.Line2D at 0x1777c1a40a0>,\n",
       "  <matplotlib.lines.Line2D at 0x1777c1b31f0>,\n",
       "  <matplotlib.lines.Line2D at 0x1777c1b34c0>,\n",
       "  <matplotlib.lines.Line2D at 0x1777c1bf5e0>,\n",
       "  <matplotlib.lines.Line2D at 0x1777c1bf8b0>,\n",
       "  <matplotlib.lines.Line2D at 0x1777c1cb9d0>,\n",
       "  <matplotlib.lines.Line2D at 0x1777c1cbca0>],\n",
       " 'boxes': [<matplotlib.lines.Line2D at 0x1777c18a520>,\n",
       "  <matplotlib.lines.Line2D at 0x1777c1a4940>,\n",
       "  <matplotlib.lines.Line2D at 0x1777c1b3d30>,\n",
       "  <matplotlib.lines.Line2D at 0x1777c1cb160>],\n",
       " 'medians': [<matplotlib.lines.Line2D at 0x1777c1a4370>,\n",
       "  <matplotlib.lines.Line2D at 0x1777c1b3790>,\n",
       "  <matplotlib.lines.Line2D at 0x1777c1bfb80>,\n",
       "  <matplotlib.lines.Line2D at 0x1777c1cbf70>],\n",
       " 'fliers': [<matplotlib.lines.Line2D at 0x1777c1a4640>,\n",
       "  <matplotlib.lines.Line2D at 0x1777c1b3a60>,\n",
       "  <matplotlib.lines.Line2D at 0x1777c1bfe50>,\n",
       "  <matplotlib.lines.Line2D at 0x1777c1d8280>],\n",
       " 'means': []}"
      ]
     },
     "execution_count": 12,
     "metadata": {},
     "output_type": "execute_result"
    },
    {
     "data": {
      "image/png": "[encoded data removed]",
      "text/plain": [
       "<Figure size 640x480 with 1 Axes>"
      ]
     },
     "metadata": {},
     "output_type": "display_data"
    }
   ],
   "source": [
    "import numpy as np\n",
    "import matplotlib.pyplot as plt\n",
    "from sklearn.preprocessing import MinMaxScaler, StandardScaler\n",
    "\n",
    "data_raw = np.array([\n",
    "    [2, 3, 7, 30],\n",
    "    [9, 4, 6, 1],\n",
    "    [8, 15, 2, 40],\n",
    "    [20, 10, 2, 6]\n",
    "])\n",
    "\n",
    "stand = StandardScaler()\n",
    "data_stand = stand.fit_transform(data_raw)\n",
    "\n",
    "plt.boxplot(data_stand)"
   ]
  }
 ],
 "metadata": {
  "kernelspec": {
   "display_name": "base",
   "language": "python",
   "name": "python3"
  },
  "language_info": {
   "codemirror_mode": {
    "name": "ipython",
    "version": 3
   },
   "file_extension": ".py",
   "mimetype": "text/x-python",
   "name": "python",
   "nbconvert_exporter": "python",
   "pygments_lexer": "ipython3",
   "version": "3.9.13"
  },
  "orig_nbformat": 4,
  "vscode": {
   "interpreter": {
    "hash": "15b6eb46025870888bcaa831565eda312d98f230e29fcc1c06a1c9096249353c"
   }
  }
 },
 "nbformat": 4,
 "nbformat_minor": 2
}
